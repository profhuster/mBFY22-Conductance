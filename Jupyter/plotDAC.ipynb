{
 "cells": [
  {
   "cell_type": "code",
   "execution_count": 1,
   "id": "7f5db856",
   "metadata": {},
   "outputs": [],
   "source": [
    "import numpy as np\n",
    "import matplotlib.pyplot as plt\n",
    "from glob import glob\n",
    "%matplotlib inline"
   ]
  },
  {
   "cell_type": "code",
   "execution_count": 2,
   "id": "73a3a825",
   "metadata": {},
   "outputs": [
    {
     "name": "stdout",
     "output_type": "stream",
     "text": [
      "123.5 ± 3.5e3\n"
     ]
    }
   ],
   "source": [
    "from math import log10\n",
    "def eng_str(x, u=0, n=1):\n",
    "    \"\"\"Print formatted value and its uncertainty in engineering format\"\"\"\n",
    "    y = abs(x)\n",
    "    exponent = int(log10(y))\n",
    "    engr_exponent = exponent - exponent%3\n",
    "    z = y/10**engr_exponent\n",
    "    sign = '-' if x < 0 else ''\n",
    "    fmt = \"{z:.%df}\" % (n)\n",
    "    xStr = sign+fmt.format(z=z)\n",
    "    \n",
    "    # uncertainty\n",
    "    yU = abs(u)\n",
    "    zU = yU/10**engr_exponent\n",
    "    fmtU = \"{zU:.%df}\" % (n)\n",
    "    if engr_exponent != 0:\n",
    "        uStr = \" ± \"+fmtU.format(zU=zU)+'e'+str(engr_exponent)\n",
    "    else:\n",
    "        uStr = \" ± \"+fmtU.format(zU=zU)\n",
    "    return xStr + uStr\n",
    "\n",
    "print(eng_str(123456, 3456, n=1))"
   ]
  },
  {
   "cell_type": "code",
   "execution_count": 5,
   "id": "2564eb16",
   "metadata": {
    "scrolled": false
   },
   "outputs": [
    {
     "name": "stdout",
     "output_type": "stream",
     "text": [
      "0: ../Data/2022-04-28-1546-DAC.csv\n",
      "1: ../Data/2022-05-06-1243.csv\n",
      "2: ../Data/2022-05-19-1450.csv\n",
      "3: ../Data/2022-05-20-1000.csv\n",
      "4: ../Data/2022-05-20-1458.csv\n",
      "5: ../Data/2022-05-24-1234.csv\n",
      "6: ../Data/2022-05-24-1700.csv\n",
      "7: ../Data/2022-05-24-2102.csv\n",
      "8: ../Data/test.csv\n",
      "Enter file number: 0\n",
      "Opening ../Data/2022-04-28-1546-DAC.csv\n",
      "shape of data is (17, 3)\n",
      "Next plot file is ../Figures/2022-04-28-1546-DAC-00.png\n",
      "# board_id = lolin_s2_mini\n",
      "# dacPin: board.IO18, adcPin: board.IO16, dToV: 5.03547e-05\n",
      "# nAvg: 10, tADC: 0.01\n",
      "# 1 k pulldown\n",
      "boardID = \n",
      "Enter comment: 1 kΩ pulldown resistor\n"
     ]
    }
   ],
   "source": [
    "files = glob(\"../Data/*.csv\")\n",
    "files.sort()\n",
    "for (i,f) in enumerate(files):\n",
    "    print(f\"{i}: {f}\")\n",
    "iFile = int(input(\"Enter file number: \"))\n",
    "dataFile = files[iFile]\n",
    "plotFileFmt = \"../Figures/\" + dataFile[dataFile.find(\"2022\"):dataFile.find(\".csv\")] + r\"-%02d.png\"\n",
    "iPlot = 0\n",
    "print(f\"Opening {dataFile}\")\n",
    "data = np.genfromtxt(dataFile, delimiter=',', comments='#')\n",
    "print(f\"shape of data is {data.shape}\")\n",
    "print(f\"Next plot file is {plotFileFmt % iPlot}\")\n",
    "\n",
    "# Now get board_id\n",
    "with open(dataFile, 'r') as fp:\n",
    "    line = fp.readline().strip()\n",
    "    while line:\n",
    "        if line[0] == '#':\n",
    "            print(line)\n",
    "        line = fp.readline().strip()\n",
    "    boardID = line[line.find(\"=\")+2:]\n",
    "print(f\"boardID = {boardID}\")\n",
    "\n",
    "nPoints = data.shape[1]\n",
    "DAC = data[:,0]\n",
    "V = data[:,1]\n",
    "uncV = data[:,2]\n",
    "\n",
    "comment = input(\"Enter comment: \")"
   ]
  },
  {
   "cell_type": "code",
   "execution_count": 6,
   "id": "1d84bbd0",
   "metadata": {},
   "outputs": [
    {
     "data": {
      "image/png": "[encoded data removed]",
      "text/plain": [
       "<Figure size 648x432 with 1 Axes>"
      ]
     },
     "metadata": {
      "needs_background": "light"
     },
     "output_type": "display_data"
    }
   ],
   "source": [
    "fig = plt.figure(figsize=(9,6))\n",
    "ax = fig.add_subplot(111)\n",
    "ax.plot(DAC, V, '.')\n",
    "iD = dataFile.find(\"2022\")\n",
    "ax.set_title(f\"File: {dataFile[iD:]}, {boardID}\")\n",
    "ax.grid()\n",
    "ax.set_xlabel(\"DAC Output (Counts)\")\n",
    "ax.set_ylabel(\"Measured Output (V)\")\n",
    "ax.set_ylim(0, 3.5)\n",
    "ax.text(0, 3.0, comment)\n",
    "iPlot = 0\n",
    "fig.savefig(plotFileFmt % iPlot)\n",
    "iPlot += 1\n"
   ]
  },
  {
   "cell_type": "code",
   "execution_count": null,
   "id": "9d6297ab",
   "metadata": {},
   "outputs": [],
   "source": []
  }
 ],
 "metadata": {
  "kernelspec": {
   "display_name": "Python 3 (ipykernel)",
   "language": "python",
   "name": "python3"
  },
  "language_info": {
   "codemirror_mode": {
    "name": "ipython",
    "version": 3
   },
   "file_extension": ".py",
   "mimetype": "text/x-python",
   "name": "python",
   "nbconvert_exporter": "python",
   "pygments_lexer": "ipython3",
   "version": "3.8.11"
  }
 },
 "nbformat": 4,
 "nbformat_minor": 5
}
